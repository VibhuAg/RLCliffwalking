{
 "cells": [
  {
   "cell_type": "markdown",
   "metadata": {},
   "source": [
    "# Training RL Cliff Walking Agent Through Q-Learning\n",
    "\n",
    "CMSC389F Final Project Spring 2022\n",
    "\n",
    "By: Andrew Yuan, Vibhu Agrawal"
   ]
  },
  {
   "cell_type": "code",
   "execution_count": 20,
   "metadata": {},
   "outputs": [],
   "source": [
    "import gym \n",
    "import numpy as np\n",
    "\n",
    "env = gym.make('CliffWalking-v0')"
   ]
  },
  {
   "cell_type": "markdown",
   "metadata": {},
   "source": [
    "## Description\n",
    "\n",
    "The board is a 4x12 matrix, with (using NumPy matrix indexing):\n",
    "\n",
    "* [3, 0] as the start at bottom-left\n",
    "\n",
    "* [3, 11] as the goal at bottom-right\n",
    "\n",
    "* [3, 1..10] as the cliff at bottom-center\n",
    "\n",
    "If the agent steps on the cliff it returns to the start. An episode terminates when the agent reaches the goal."
   ]
  },
  {
   "cell_type": "code",
   "execution_count": 21,
   "metadata": {},
   "outputs": [
    {
     "name": "stdout",
     "output_type": "stream",
     "text": [
      "o  o  o  o  o  o  o  o  o  o  o  o\n",
      "o  o  o  o  o  o  o  o  o  o  o  o\n",
      "o  o  o  o  o  o  o  o  o  o  o  o\n",
      "x  C  C  C  C  C  C  C  C  C  C  T\n",
      "\n"
     ]
    }
   ],
   "source": [
    "env.render()"
   ]
  },
  {
   "cell_type": "markdown",
   "metadata": {},
   "source": [
    "## Actions\n",
    "\n",
    "There are 4 discrete deterministic actions:\n",
    "\n",
    "0: move up\n",
    "\n",
    "1: move right\n",
    "\n",
    "2: move down\n",
    "\n",
    "3: move left"
   ]
  },
  {
   "cell_type": "code",
   "execution_count": 23,
   "metadata": {},
   "outputs": [
    {
     "data": {
      "text/plain": [
       "Discrete(4)"
      ]
     },
     "execution_count": 23,
     "metadata": {},
     "output_type": "execute_result"
    }
   ],
   "source": [
    "env.action_space"
   ]
  },
  {
   "cell_type": "markdown",
   "metadata": {},
   "source": [
    "## Observations\n",
    "\n",
    "There are 3x12 + 1 possible states. In fact, the agent cannot be at the cliff, nor at the goal (as this results the end of episode). They remain all the positions of the first 3 rows plus the bottom-left cell."
   ]
  },
  {
   "cell_type": "code",
   "execution_count": 24,
   "metadata": {},
   "outputs": [
    {
     "data": {
      "text/plain": [
       "Discrete(48)"
      ]
     },
     "execution_count": 24,
     "metadata": {},
     "output_type": "execute_result"
    }
   ],
   "source": [
    "env.observation_space"
   ]
  },
  {
   "cell_type": "markdown",
   "metadata": {},
   "source": [
    "## Reward\n",
    "\n",
    "Each time step incurs -1 reward, and stepping into the cliff incurs -100 reward."
   ]
  },
  {
   "cell_type": "markdown",
   "metadata": {},
   "source": [
    "## Q-Learning Algorithm Implementation\n",
    "\n",
    "Alpha is the learning rate (between 0 and 1) and we have set alpha to 0.5. Gamma is the weighting between future reward versus immediate reward, and we have set gamma to 0.9. \n",
    "\n",
    "We set the starting_state to 36 since according to our environment, we should start at the bottom left corner of our 4 * 12 grid, and the flat index of that position would be 36. \n",
    "\n",
    "The rest of the Q-Learning algorithm follows the pseudocode outlined in Slide 13 of the Week 13 Lecture."
   ]
  },
  {
   "cell_type": "code",
   "execution_count": 44,
   "metadata": {},
   "outputs": [],
   "source": [
    "# Initialize Q-Table\n",
    "q_table = np.zeros(([env.observation_space.n, env.action_space.n]))\n",
    "\n",
    "# Initialize alpha and gamma values\n",
    "alpha = 0.5\n",
    "gamma = 0.9\n",
    "\n",
    "# Initialize empty array to keep track of rewards over each iteration so that we can plot later\n",
    "all_rewards = []\n",
    "\n",
    "# Iterate 100 times\n",
    "for i in range(100):\n",
    "\n",
    "    # Start at bottom left corner\n",
    "    current_state = 36\n",
    "\n",
    "    env.reset()\n",
    "    total_reward = 0\n",
    "\n",
    "    while True:\n",
    "\n",
    "        # Choose the max action value for our current_state from our Q-Table\n",
    "        max_action = np.argmax(q_table[current_state, :])\n",
    "\n",
    "        # Take that action and get the reward\n",
    "        obs, reward, done, info = env.step(max_action)\n",
    "\n",
    "        # Update total reward\n",
    "        total_reward += reward\n",
    "\n",
    "        # Get the max action value for the state you'd be on once you take max_action\n",
    "        action_prime = np.argmax(q_table[obs, :])\n",
    "\n",
    "        # Use formula talked about in class to update q_table\n",
    "        q_table[current_state, max_action] += alpha*(reward + gamma*(q_table[obs, action_prime] - q_table[current_state, max_action]))\n",
    "        \n",
    "        # Update current_state\n",
    "        current_state = obs\n",
    "\n",
    "        if done:\n",
    "            break\n",
    "        \n",
    "    all_rewards.append(total_reward)"
   ]
  },
  {
   "cell_type": "markdown",
   "metadata": {},
   "source": [
    "## Plotting Q-Table\n",
    "\n",
    "We use matplotlib in order to plot our Q-Table. We plot the reward over the number of iterations we trained the agnet, and from our table, we see that the agent has learned to incur almost no loss in reward (close to 0) after 20 or so iterations. "
   ]
  },
  {
   "cell_type": "code",
   "execution_count": 45,
   "metadata": {},
   "outputs": [
    {
     "data": {
      "image/png": "[encoded data removed]",
      "text/plain": [
       "<Figure size 432x288 with 1 Axes>"
      ]
     },
     "metadata": {
      "needs_background": "light"
     },
     "output_type": "display_data"
    }
   ],
   "source": [
    "import matplotlib.pyplot as plt\n",
    "x = np.arange(1, 101)\n",
    "y = np.array(all_rewards)\n",
    "\n",
    "plt.title(\"Reward Graph Over 100 Iterations\")\n",
    "plt.xlabel(\"Iterations\")\n",
    "plt.ylabel(\"Reward\")\n",
    "plt.plot(x, y, color =\"red\")\n",
    "plt.show()"
   ]
  }
 ],
 "metadata": {
  "language_info": {
   "name": "python"
  },
  "orig_nbformat": 4
 },
 "nbformat": 4,
 "nbformat_minor": 2
}
